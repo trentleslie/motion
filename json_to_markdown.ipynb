{
 "cells": [
  {
   "cell_type": "code",
   "execution_count": 4,
   "metadata": {},
   "outputs": [
    {
     "name": "stdout",
     "output_type": "stream",
     "text": [
      "Markdown document has been generated successfully.\n"
     ]
    }
   ],
   "source": [
    "import json\n",
    "\n",
    "# Load JSON data from file\n",
    "with open('swagger.json', 'r') as file:\n",
    "    swagger_data = json.load(file)\n",
    "\n",
    "# Initialize the Markdown document content\n",
    "markdown_content = f\"# {swagger_data['info']['title']}\\n\\n\"\n",
    "markdown_content += f\"**Version:** {swagger_data['info']['version']}\\n\\n\"\n",
    "markdown_content += f\"**Description:** {swagger_data['info']['description']}\\n\\n\"\n",
    "\n",
    "# Iterate over paths\n",
    "for path, methods in swagger_data['paths'].items():\n",
    "    markdown_content += f\"## Path: `{path}`\\n\\n\"\n",
    "    for method, details in methods.items():\n",
    "        markdown_content += f\"### Method: `{method.upper()}`\\n\\n\"\n",
    "        markdown_content += f\"**Summary:** {details.get('summary', 'N/A')}\\n\\n\"\n",
    "        markdown_content += f\"**Description:** {details.get('description', 'N/A')}\\n\\n\"\n",
    "\n",
    "        # Parameters\n",
    "        if 'parameters' in details:\n",
    "            markdown_content += f\"**Parameters:**\\n\"\n",
    "            for param in details['parameters']:\n",
    "                markdown_content += f\"- **{param['name']}** ({param['in']}): {param.get('description', 'No description')}\\n\"\n",
    "            markdown_content += \"\\n\"\n",
    "\n",
    "        # Request Body\n",
    "        if 'requestBody' in details:\n",
    "            markdown_content += \"**Request Body:**\\n\"\n",
    "            content = details['requestBody']['content']\n",
    "            for content_type, content_details in content.items():\n",
    "                markdown_content += f\"- **{content_type}:** {content_details['schema'].get('$ref', 'No $ref available')}\\n\"\n",
    "            markdown_content += \"\\n\"\n",
    "\n",
    "        # Responses\n",
    "        if 'responses' in details:\n",
    "            markdown_content += \"**Responses:**\\n\"\n",
    "            for status, response in details['responses'].items():\n",
    "                markdown_content += f\"- **{status}:** {response.get('description', 'No description')}\\n\"\n",
    "                if 'content' in response:\n",
    "                    for content_type, content_details in response['content'].items():\n",
    "                        schema_ref = content_details['schema'].get('$ref', 'No $ref available')\n",
    "                        markdown_content += f\"  - **{content_type}:** {schema_ref}\\n\"\n",
    "            markdown_content += \"\\n\"\n",
    "\n",
    "# Save the Markdown content to a file\n",
    "with open('swagger_document.md', 'w') as md_file:\n",
    "    md_file.write(markdown_content)\n",
    "\n",
    "print(\"Markdown document has been generated successfully.\")\n"
   ]
  }
 ],
 "metadata": {
  "kernelspec": {
   "display_name": "dspy_env",
   "language": "python",
   "name": "python3"
  },
  "language_info": {
   "codemirror_mode": {
    "name": "ipython",
    "version": 3
   },
   "file_extension": ".py",
   "mimetype": "text/x-python",
   "name": "python",
   "nbconvert_exporter": "python",
   "pygments_lexer": "ipython3",
   "version": "3.12.4"
  }
 },
 "nbformat": 4,
 "nbformat_minor": 2
}
